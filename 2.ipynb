{
  "nbformat": 4,
  "nbformat_minor": 0,
  "metadata": {
    "colab": {
      "provenance": [],
      "authorship_tag": "ABX9TyMyCWvhLkHjEflZUO0oTR9x",
      "include_colab_link": true
    },
    "kernelspec": {
      "name": "python3",
      "display_name": "Python 3"
    },
    "language_info": {
      "name": "python"
    }
  },
  "cells": [
    {
      "cell_type": "markdown",
      "metadata": {
        "id": "view-in-github",
        "colab_type": "text"
      },
      "source": [
        "<a href=\"https://colab.research.google.com/github/semthedev/vk-rustore-data-analytics-test-task/blob/main/2.ipynb\" target=\"_parent\"><img src=\"https://colab.research.google.com/assets/colab-badge.svg\" alt=\"Open In Colab\"/></a>"
      ]
    },
    {
      "cell_type": "code",
      "source": [
        "import pandas as pd\n",
        "from datetime import datetime, timedelta"
      ],
      "metadata": {
        "id": "TFrcOAPUK3A2"
      },
      "execution_count": 44,
      "outputs": []
    },
    {
      "cell_type": "code",
      "source": [
        "# Исходные данные - события пользователей в магазине приложений\n",
        "# userId - идентификатор пользователя\n",
        "# eventName - событие (регистрация, загрузка, покупка и т. д.)\n",
        "# time - время события\n",
        "# product - идентификатор продукта (если применимо)\n",
        "data = [\n",
        "    (1,  'register', '2023-03-06 10:00:00', None),\n",
        "    (1,  'download', '2023-03-07 11:00:00', 'p1'),\n",
        "    (2,  'register', '2023-03-06 12:00:00', None),\n",
        "    (2,  'download', '2023-03-13 14:00:00', 'p2'),\n",
        "    (3,  'register', '2023-03-08 08:30:00', None),\n",
        "    (3,  'launch',   '2023-03-09 09:45:00', None),\n",
        "    (4,  'register', '2023-03-13 15:00:00', None),\n",
        "    (4,  'download', '2023-03-14 16:30:00', 'p3'),\n",
        "    (5,  'register', '2023-03-13 17:00:00', None),\n",
        "    (6,  'register', '2023-03-20 18:00:00', None),\n",
        "    (6,  'download', '2023-03-21 19:00:00', 'p2'),\n",
        "    (7,  'register', '2023-03-20 20:00:00', None),\n",
        "    (8,  'pageVisit','2023-04-01 14:00:00', 'p4'),\n",
        "    (9,  'buy',      '2023-04-02 15:00:00', 'p5'),\n",
        "    (10, 'update',   '2023-04-03 16:00:00', 'p6'),\n",
        "]"
      ],
      "metadata": {
        "id": "BqmKSNPFLBZZ"
      },
      "execution_count": 45,
      "outputs": []
    },
    {
      "cell_type": "code",
      "source": [
        "# Создаем DataFrame из списка данных\n",
        "df = pd.DataFrame(data, columns=['userId', 'eventName', 'time', 'product'])\n",
        "\n",
        "# Преобразуем столбец времени в формат datetime\n",
        "df['time'] = pd.to_datetime(df['time'])\n",
        "\n",
        "# Фильтруем только события регистрации и загрузки приложения\n",
        "registrations = df[df['eventName'] == 'register']\n",
        "downloads = df[df['eventName'] == 'download']"
      ],
      "metadata": {
        "id": "qlFWtHuXLEta"
      },
      "execution_count": 46,
      "outputs": []
    },
    {
      "cell_type": "code",
      "source": [
        "# Определяем дату первой регистрации для каждого пользователя\n",
        "registration_dates = registrations.groupby('userId')['time'].min().reset_index()\n",
        "registration_dates.rename(columns={'time': 'registered'}, inplace=True)\n",
        "\n",
        "# Определяем дату первой загрузки для каждого пользователя\n",
        "first_downloads = downloads.groupby('userId')['time'].min().reset_index()\n",
        "first_downloads.rename(columns={'time': 'downloaded'}, inplace=True)"
      ],
      "metadata": {
        "id": "kcL4WCOWLU10"
      },
      "execution_count": 47,
      "outputs": []
    },
    {
      "cell_type": "code",
      "source": [
        "# Функция, которая возвращает начало недели (понедельник) для заданной даты\n",
        "def get_monday_of_week(date):\n",
        "    return date.to_period('W').start_time\n",
        "\n",
        "# Добавляем столбцы с неделями регистрации и загрузки\n",
        "registration_dates['reg_week'] = registration_dates['registered'].apply(get_monday_of_week)\n",
        "first_downloads['download_week'] = first_downloads['downloaded'].apply(get_monday_of_week)"
      ],
      "metadata": {
        "id": "bGBBOdOtLS-s"
      },
      "execution_count": 48,
      "outputs": []
    },
    {
      "cell_type": "code",
      "source": [
        "# Объединяем данные о регистрации и первой загрузке по userId\n",
        "cohort = pd.merge(registration_dates, first_downloads, on='userId', how='left')\n",
        "\n",
        "# Считаем количество пользователей, зарегистрировавшихся в каждую неделю\n",
        "weekly_users = cohort.groupby('reg_week').size().reset_index(name='users')\n",
        "\n",
        "# Подсчитываем, сколько пользователей загрузили приложение в ту же неделю, когда зарегистрировались\n",
        "same_week_downloads = cohort[cohort['reg_week'] == cohort['download_week']].groupby('reg_week').size().reset_index(name='same_week_downloads')\n",
        "\n",
        "# Объединяем данные о количестве зарегистрированных пользователей и загрузок в ту же неделю\n",
        "result = pd.merge(weekly_users, same_week_downloads, on='reg_week', how='left')\n",
        "\n",
        "# Заполняем пропущенные значения нулями (если в какой-то неделе не было загрузок)\n",
        "result['same_week_downloads'].fillna(0, inplace=True)\n",
        "\n",
        "# Рассчитываем коэффициент конверсии (CR) как процент пользователей, скачавших приложение в неделю регистрации\n",
        "result['cr'] = (result['same_week_downloads'] / result['users'] * 100).round(2)\n",
        "\n",
        "# Переименовываем колонку reg_week → week для итогового результата\n",
        "result.rename(columns={'reg_week': 'week'}, inplace=True)\n",
        "\n",
        "# Выводим итоговую таблицу, отсортированную по неделям\n",
        "print(result[['week', 'users', 'cr']].sort_values(by='week', ascending=True))"
      ],
      "metadata": {
        "colab": {
          "base_uri": "https://localhost:8080/"
        },
        "id": "Vh1kSLBxLf3Y",
        "outputId": "b13b876c-19f6-487c-d600-bac4863b17b4"
      },
      "execution_count": 49,
      "outputs": [
        {
          "output_type": "stream",
          "name": "stdout",
          "text": [
            "        week  users     cr\n",
            "0 2023-03-06      3  33.33\n",
            "1 2023-03-13      2  50.00\n",
            "2 2023-03-20      2  50.00\n"
          ]
        },
        {
          "output_type": "stream",
          "name": "stderr",
          "text": [
            "<ipython-input-49-281d72938e27>:14: FutureWarning: A value is trying to be set on a copy of a DataFrame or Series through chained assignment using an inplace method.\n",
            "The behavior will change in pandas 3.0. This inplace method will never work because the intermediate object on which we are setting values always behaves as a copy.\n",
            "\n",
            "For example, when doing 'df[col].method(value, inplace=True)', try using 'df.method({col: value}, inplace=True)' or df[col] = df[col].method(value) instead, to perform the operation inplace on the original object.\n",
            "\n",
            "\n",
            "  result['same_week_downloads'].fillna(0, inplace=True)\n"
          ]
        }
      ]
    },
    {
      "cell_type": "markdown",
      "source": [],
      "metadata": {
        "id": "UbDfoR6_LT9S"
      }
    }
  ]
}